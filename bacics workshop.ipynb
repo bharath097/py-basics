{
 "cells": [
  {
   "cell_type": "code",
   "execution_count": 1,
   "id": "8216e2b2",
   "metadata": {},
   "outputs": [
    {
     "name": "stdout",
     "output_type": "stream",
     "text": [
      "Bharath Chandra\n"
     ]
    }
   ],
   "source": [
    "print(\"Bharath Chandra\")"
   ]
  },
  {
   "cell_type": "code",
   "execution_count": 3,
   "id": "050f91c3",
   "metadata": {},
   "outputs": [
    {
     "name": "stdout",
     "output_type": "stream",
     "text": [
      "Name :bharath \n"
     ]
    }
   ],
   "source": [
    "name=input(\"Name :\")"
   ]
  },
  {
   "cell_type": "code",
   "execution_count": 4,
   "id": "c069f2df",
   "metadata": {},
   "outputs": [
    {
     "name": "stdout",
     "output_type": "stream",
     "text": [
      "['False', 'None', 'True', '__peg_parser__', 'and', 'as', 'assert', 'async', 'await', 'break', 'class', 'continue', 'def', 'del', 'elif', 'else', 'except', 'finally', 'for', 'from', 'global', 'if', 'import', 'in', 'is', 'lambda', 'nonlocal', 'not', 'or', 'pass', 'raise', 'return', 'try', 'while', 'with', 'yield']\n"
     ]
    }
   ],
   "source": [
    "import keyword\n",
    "print(keyword.kwlist)"
   ]
  },
  {
   "cell_type": "code",
   "execution_count": 6,
   "id": "215a3e21",
   "metadata": {},
   "outputs": [
    {
     "name": "stdout",
     "output_type": "stream",
     "text": [
      "ROll number: 2003A52097\n"
     ]
    }
   ],
   "source": [
    "rollnumber=input(\"ROll number: \")"
   ]
  },
  {
   "cell_type": "code",
   "execution_count": 8,
   "id": "81d69760",
   "metadata": {},
   "outputs": [
    {
     "name": "stdout",
     "output_type": "stream",
     "text": [
      "520.2\n"
     ]
    }
   ],
   "source": [
    "#float\n",
    "b=520.2\n",
    "print(b)"
   ]
  },
  {
   "cell_type": "code",
   "execution_count": 10,
   "id": "1b74e798",
   "metadata": {},
   "outputs": [
    {
     "name": "stdout",
     "output_type": "stream",
     "text": [
      "54 <class 'int'>\n"
     ]
    }
   ],
   "source": [
    "a=54\n",
    "print(a,type(a))"
   ]
  },
  {
   "cell_type": "code",
   "execution_count": null,
   "id": "c533661b",
   "metadata": {},
   "outputs": [],
   "source": []
  },
  {
   "cell_type": "code",
   "execution_count": 1,
   "id": "48ade2f2",
   "metadata": {},
   "outputs": [
    {
     "name": "stdout",
     "output_type": "stream",
     "text": [
      "ENter your age: 30\n",
      "eligible to vote\n"
     ]
    }
   ],
   "source": [
    "age=int(input(\"ENter your age: \"))\n",
    "if age>18:\n",
    "  print(\"eligible to vote\")\n",
    "else:\n",
    "    print(\"not eligible to vote\")"
   ]
  },
  {
   "cell_type": "code",
   "execution_count": 8,
   "id": "a724aebe",
   "metadata": {},
   "outputs": [
    {
     "name": "stdout",
     "output_type": "stream",
     "text": [
      "p\n",
      "r\n"
     ]
    }
   ],
   "source": [
    "a=\"program\"\n",
    "print(a[0])\n",
    "print(a[-3])"
   ]
  },
  {
   "cell_type": "code",
   "execution_count": 2,
   "id": "4a981573",
   "metadata": {},
   "outputs": [
    {
     "name": "stdout",
     "output_type": "stream",
     "text": [
      " string functions dEf\n",
      " STRING FUNCTIONS \n",
      " string functions \n",
      " String Functions \n",
      " STRING FUNCTIONS DeF\n",
      "string functions\n",
      "string functions \n",
      "21\n",
      " string functions  string functions  string functions  string functions  string functions \n"
     ]
    }
   ],
   "source": [
    "s=\" string functions \"\n",
    "s2=\"dEf\"\n",
    "print(s+s2)\n",
    "print(s.upper())\n",
    "print(s.capitalize())\n",
    "print(s.title())\n",
    "print((s+s2).swapcase())\n",
    "print(s.strip())\n",
    "print(s.lstrip())\n",
    "print(len(s+s2))\n",
    "print(s*5)"
   ]
  },
  {
   "cell_type": "code",
   "execution_count": 4,
   "id": "2ff2a7d0",
   "metadata": {},
   "outputs": [
    {
     "name": "stdout",
     "output_type": "stream",
     "text": [
      "ENter a string: mom\n",
      "Is palindrome\n"
     ]
    }
   ],
   "source": [
    "pal=input(\"ENter a string: \")\n",
    "if pal==pal[::-1]:\n",
    "    print(\"Is palindrome\")\n",
    "else:\n",
    "    print(\"not palindrome\")"
   ]
  },
  {
   "cell_type": "code",
   "execution_count": 14,
   "id": "d976cb50",
   "metadata": {},
   "outputs": [
    {
     "name": "stdout",
     "output_type": "stream",
     "text": [
      "y\n",
      "p\n",
      "s\n",
      "d\n",
      "[1, 2, 3, 4, 'spyder', 'n', 0]\n",
      "[4, 'spyder', 'n', 0]\n"
     ]
    }
   ],
   "source": [
    "a=['s','p' ,'y','d','e','r']\n",
    "print(a[2])\n",
    "print(a[1])\n",
    "print(a[0])\n",
    "print(a[-3])\n",
    "b=[1,2,3,4,'spyder','n',0]\n",
    "print(b)\n",
    "print(a)\n",
    "print(b[3:])"
   ]
  },
  {
   "cell_type": "code",
   "execution_count": 23,
   "id": "f6e058a6",
   "metadata": {},
   "outputs": [
    {
     "name": "stdout",
     "output_type": "stream",
     "text": [
      "[1, 2, 3, 5, 6]\n"
     ]
    }
   ],
   "source": [
    "l1=[1,2,3]\n",
    "l2=[5,6]\n",
    "l1.extend(l2)\n",
    "print(l1)"
   ]
  },
  {
   "cell_type": "code",
   "execution_count": 12,
   "id": "d150f8de",
   "metadata": {},
   "outputs": [
    {
     "name": "stdout",
     "output_type": "stream",
     "text": [
      "<class 'set'>\n",
      "<class 'set'>\n",
      "{1, 2, 3, 4, 5, 'v', 'm', 'c', 'b', 'n'}\n",
      "{4, 5}\n",
      "{1, 2, 3, 4, 5}\n",
      "{1, 2, 3}\n"
     ]
    }
   ],
   "source": [
    "a={1,2,3,4,5}\n",
    "b={'m','n','b','v','c'}\n",
    "c={4,5,6,7,8}\n",
    "print(type(a))\n",
    "print(type(b))\n",
    "print(a.union(b))\n",
    "print(a.intersection(c))\n",
    "print(a-b)\n",
    "print(a-c)\n"
   ]
  },
  {
   "cell_type": "code",
   "execution_count": 14,
   "id": "7de0bece",
   "metadata": {},
   "outputs": [
    {
     "name": "stdout",
     "output_type": "stream",
     "text": [
      "dict_keys(['IP', 'PSP', 'PTT'])\n"
     ]
    }
   ],
   "source": [
    "sub={\"IP\":1,\"PSP\":2,\"PTT\":3}\n",
    "print(sub.keys())\n"
   ]
  },
  {
   "cell_type": "code",
   "execution_count": 2,
   "id": "49f076bc",
   "metadata": {},
   "outputs": [
    {
     "name": "stdout",
     "output_type": "stream",
     "text": [
      "Hello! SRU\n"
     ]
    }
   ],
   "source": [
    "#def function_name(parameters )\n",
    "def wel():\n",
    "    print(\"Hello! SRU\")\n",
    "wel()"
   ]
  },
  {
   "cell_type": "code",
   "execution_count": 4,
   "id": "57d2b927",
   "metadata": {},
   "outputs": [
    {
     "name": "stdout",
     "output_type": "stream",
     "text": [
      "Hello SRU!\n"
     ]
    }
   ],
   "source": [
    "def wel():\n",
    "    return \"Hello SRU!\"\n",
    "print(wel())"
   ]
  },
  {
   "cell_type": "code",
   "execution_count": null,
   "id": "f89ad431",
   "metadata": {},
   "outputs": [],
   "source": []
  },
  {
   "cell_type": "code",
   "execution_count": null,
   "id": "ef155463",
   "metadata": {},
   "outputs": [],
   "source": []
  },
  {
   "cell_type": "raw",
   "id": "08ba44fe",
   "metadata": {},
   "source": []
  },
  {
   "cell_type": "code",
   "execution_count": null,
   "id": "7a460df3",
   "metadata": {},
   "outputs": [],
   "source": []
  }
 ],
 "metadata": {
  "kernelspec": {
   "display_name": "Python 3 (ipykernel)",
   "language": "python",
   "name": "python3"
  },
  "language_info": {
   "codemirror_mode": {
    "name": "ipython",
    "version": 3
   },
   "file_extension": ".py",
   "mimetype": "text/x-python",
   "name": "python",
   "nbconvert_exporter": "python",
   "pygments_lexer": "ipython3",
   "version": "3.9.7"
  }
 },
 "nbformat": 4,
 "nbformat_minor": 5
}
